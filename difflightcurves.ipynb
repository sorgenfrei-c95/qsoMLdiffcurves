{
 "cells": [
  {
   "cell_type": "code",
   "execution_count": null,
   "id": "b493cb20",
   "metadata": {},
   "outputs": [],
   "source": [
    "import numpy as np\n",
    "import matplotlib.pyplot as plt\n",
    "from scipy import interpolate"
   ]
  },
  {
   "cell_type": "code",
   "execution_count": null,
   "id": "6c169f1b",
   "metadata": {},
   "outputs": [],
   "source": [
    "def lightcurvedata(file):\n",
    "    time,magA,magA_err,magB,magB_err = \\\n",
    "    np.loadtxt(file,skiprows=2,usecols=(0,1,2,3,4),unpack=True)\n",
    "    return time,magA,magA_err,magB,magB_err\n",
    "\n",
    "R_mag = lightcurvedata('lightcurves_he2149R.txt')\n",
    "V_mag = lightcurvedata('lightcurves_he2149V.txt')"
   ]
  },
  {
   "cell_type": "code",
   "execution_count": null,
   "id": "7d5cf2de",
   "metadata": {},
   "outputs": [],
   "source": [
    "timedelay = -32.4/365.25"
   ]
  },
  {
   "cell_type": "code",
   "execution_count": null,
   "id": "c33c11df",
   "metadata": {},
   "outputs": [],
   "source": [
    "def plot(mag,offsetA=0.0,offsetB=0.0,lable1='',lable2='',sym1='o',sym2='o',timedelay=timedelay,alpha=1.0):\n",
    "    plt.errorbar(mag[0],mag[1]+offsetA,yerr=mag[2],fmt=sym1,alpha=alpha,markersize=4,elinewidth=1,capsize=3,label=lable1)\n",
    "    plt.errorbar(mag[0]+timedelay,mag[3]+offsetB,yerr=mag[4],fmt=sym2,alpha=alpha,markersize=4,elinewidth=1,capsize=3,label=lable2)"
   ]
  },
  {
   "cell_type": "code",
   "execution_count": null,
   "id": "2d73a5f8",
   "metadata": {},
   "outputs": [],
   "source": [
    "plt.figure(figsize=(10,7),dpi=400)\n",
    "plt.title('light curves of HE2149-2745 in the $R$ and $V$ band',size=18)\n",
    "plot(R_mag,0.0,-1.2,'$R$ band: $A$','$R$ band: $B-1.2$','o','^',timedelay)\n",
    "plot(V_mag,0.2,-1.0,'$V$ band: $A+0.2$','$V$ band: $B-1.0$','s','v',timedelay)\n",
    "plt.gca().invert_yaxis()\n",
    "plt.xticks(fontsize=13)\n",
    "plt.yticks(fontsize=13)\n",
    "plt.xlabel('time $t_A$ and $t_B+\\Delta t_{BA}$ [years]',size=15)\n",
    "plt.ylabel('apparent magnitudes [mag]',size=15)\n",
    "plt.legend(fontsize=13,ncol=2)"
   ]
  },
  {
   "cell_type": "code",
   "execution_count": null,
   "id": "3b5b8481",
   "metadata": {},
   "outputs": [],
   "source": [
    "def interpcurveA(mag,timedelay=timedelay,maxtimegap=50):\n",
    "    \n",
    "    timesortedindicees = np.argsort(mag[0])\n",
    "    \n",
    "    timeA = mag[0][timesortedindicees]\n",
    "    magA  = mag[1][timesortedindicees]\n",
    "    errA  = mag[2][timesortedindicees]\n",
    "    timeB = mag[0][timesortedindicees]+timedelay\n",
    "    magB  = mag[3][timesortedindicees]\n",
    "    errB  = mag[4][timesortedindicees]\n",
    "    \n",
    "    time_mask = np.where((timeB > np.min(timeA)) & (timeB < np.max(timeA)))\n",
    "    time = timeB[time_mask]\n",
    "    \n",
    "    ################################\n",
    "    # I SHOULDNT BE DOING THAT !!! #\n",
    "    time = np.unique(np.round(time*365.25)/365.25) # rounding to whole day and only using that day once\n",
    "    # I SHOULDNT BE DOING THAT !!! #\n",
    "    ################################\n",
    "    \n",
    "    #print(np.array(np.diff(timeA)<maxtimegap/365.25)) # check timeA differences! too long gaps --> False\n",
    "    #print(np.searchsorted(timeA,time)-1) # in which gap would data point of time that would be used fall in timeA?\n",
    "    #print(np.array(np.diff(timeA)<maxtimegap/365.25)[np.searchsorted(timeA,time)-1])\n",
    "    time = time[np.array(np.diff(timeA)<maxtimegap/365.25)[np.searchsorted(timeA,time)-1]]\n",
    "    time_mask = np.argsort(timeB)[np.searchsorted(timeB,time)]\n",
    "    #print(time,time_mask,np.array_equal(timeB[time_mask],time))\n",
    "    #print(len(time),len(np.unique(time)))\n",
    "    \n",
    "    fA = interpolate.interp1d(timeA,magA,kind='linear')\n",
    "    magA_interp = fA(time)\n",
    "    \n",
    "    N = 2048\n",
    "    mc_magA = np.zeros((len(timeA),N))\n",
    "    for i in range(len(timeA)):\n",
    "        mc_magA[i] = np.random.normal(magA[i],errA[i],N)\n",
    "    mc_magA = np.swapaxes(mc_magA,0,1)\n",
    "    mc_magA_interp = np.zeros((N,len(time)))\n",
    "    for j in range(N):\n",
    "        fAmc = interpolate.interp1d(timeA,mc_magA[j],kind='linear')\n",
    "        mc_magA_interp[j] = fAmc(time)\n",
    "    errA_interp = np.std(mc_magA_interp,axis=0)\n",
    "    magA_test = 1000*np.max(np.abs(np.mean(mc_magA_interp,axis=0)-magA_interp))\n",
    "    if magA_test > 1.0:\n",
    "        print('WARNING: maximum MC vs. interp. data point deviation:',magA_test,'mmag')\n",
    "    \n",
    "    # what about extrapolating a little bit?\n",
    "\n",
    "    return time,magA_interp,errA_interp,magB[time_mask],errB[time_mask]\n",
    "\n",
    "R_mag_interp = interpcurveA(R_mag,maxtimegap=20)\n",
    "V_mag_interp = interpcurveA(V_mag,maxtimegap=20)"
   ]
  },
  {
   "cell_type": "code",
   "execution_count": null,
   "id": "80dbb81b",
   "metadata": {},
   "outputs": [],
   "source": [
    "plt.figure(figsize=(10,7),dpi=400)\n",
    "plt.title('light curves of HE2149-2745 (image A interpolated)',size=18)\n",
    "plot(R_mag_interp,0.0,-1.2,'$R$ band: $A$','$R$ band: $B-1.2$','o','^',0.0)\n",
    "plot(V_mag_interp,0.2,-1.0,'$V$ band: $A+0.2$','$V$ band: $B-1.0$','s','v',0.0)\n",
    "plot(R_mag,0.0,10.0,'$R$ band: $A$ (compare)','','x','x',timedelay,0.3)\n",
    "plot(V_mag,0.2,10.0,'$V$ band: $A+0.2$ (c...)','','x','x',timedelay,0.3)\n",
    "plt.ylim([16.5,17.64]) # just to make enough space for the legend\n",
    "plt.gca().invert_yaxis()\n",
    "plt.xticks(fontsize=13)\n",
    "plt.yticks(fontsize=13)\n",
    "plt.xlabel('time $t_A$ and $t_B+\\Delta t_{BA}$ [years]',size=15)\n",
    "plt.ylabel('apparent magnitudes [mag]',size=15)\n",
    "plt.legend(fontsize=13,loc='upper left',ncol=3)"
   ]
  },
  {
   "cell_type": "code",
   "execution_count": null,
   "id": "dca321e9",
   "metadata": {},
   "outputs": [],
   "source": [
    "def diffcurve(mag):\n",
    "    time = mag[0]\n",
    "    magA = mag[1]\n",
    "    errA = mag[2]\n",
    "    magB = mag[3]\n",
    "    errB = mag[4]\n",
    "    \n",
    "    diff = magA - magB\n",
    "    derr = np.sqrt(errA**2+errB**2)\n",
    "    \n",
    "    return time,diff,derr\n",
    "\n",
    "R_diff = diffcurve(R_mag_interp)\n",
    "V_diff = diffcurve(V_mag_interp)"
   ]
  },
  {
   "cell_type": "code",
   "execution_count": null,
   "id": "af0e2f70",
   "metadata": {},
   "outputs": [],
   "source": [
    "plt.figure(figsize=(10,7),dpi=400)\n",
    "plt.title('difference light curve $m_A-m_B$ of HE2149-2745 in $R$ and $V$',size=18)\n",
    "plt.errorbar(R_diff[0],R_diff[1],yerr=R_diff[2],fmt='o',markersize=4,elinewidth=1,capsize=3,label='$R$ band')\n",
    "plt.errorbar(V_diff[0],V_diff[1],yerr=V_diff[2],fmt='v',markersize=4,elinewidth=1,capsize=3,label='$V$ band')\n",
    "plt.gca().invert_yaxis()\n",
    "plt.xticks(fontsize=13)\n",
    "plt.yticks(fontsize=13)\n",
    "plt.xlabel('time $t$ [years]',size=15)\n",
    "plt.ylabel('difference magnitudes [mag]',size=15)\n",
    "plt.legend(fontsize=13)"
   ]
  },
  {
   "cell_type": "code",
   "execution_count": null,
   "id": "2c7dce23",
   "metadata": {},
   "outputs": [],
   "source": [
    "eqdateR = np.in1d(R_diff[0],V_diff[0])\n",
    "eqdateV = np.in1d(V_diff[0],R_diff[0])\n",
    "eq_time = R_diff[0][eqdateR]\n",
    "RV_diff = R_diff[1][eqdateR] - V_diff[1][eqdateV]\n",
    "RV_derr = np.sqrt(R_diff[2][eqdateR]**2 + V_diff[2][eqdateV]**2)\n",
    "len(eq_time)\n",
    "# MIST: Jetzt sind sie natürlich nie gleichzeitig...\n",
    "# ALSO: Doch auf Datum oder ähnliches Runden...\n",
    "# ODER: Wieder interpolieren!?"
   ]
  },
  {
   "cell_type": "code",
   "execution_count": null,
   "id": "51c463f5",
   "metadata": {},
   "outputs": [],
   "source": [
    "plt.figure(figsize=(10,7),dpi=400)\n",
    "plt.title('chromatic difference light curve of HE2149-2745',size=18)\n",
    "plt.errorbar(eq_time,RV_diff,yerr=RV_derr,fmt='o',markersize=4,elinewidth=1,capsize=3,label='$(m_A-m_B)_R-(m_A-m_B)_V$')\n",
    "plt.gca().invert_yaxis()\n",
    "plt.xticks(fontsize=13)\n",
    "plt.yticks(fontsize=13)\n",
    "plt.xlabel('time $t$ [years]',size=15)\n",
    "plt.ylabel('difference magnitudes [mag]',size=15)\n",
    "plt.legend(fontsize=13,loc='upper left',ncol=3)"
   ]
  },
  {
   "cell_type": "code",
   "execution_count": null,
   "id": "0225933a",
   "metadata": {},
   "outputs": [],
   "source": []
  }
 ],
 "metadata": {
  "kernelspec": {
   "display_name": "Python 3",
   "language": "python",
   "name": "python3"
  },
  "language_info": {
   "codemirror_mode": {
    "name": "ipython",
    "version": 3
   },
   "file_extension": ".py",
   "mimetype": "text/x-python",
   "name": "python",
   "nbconvert_exporter": "python",
   "pygments_lexer": "ipython3",
   "version": "3.8.8"
  }
 },
 "nbformat": 4,
 "nbformat_minor": 5
}
