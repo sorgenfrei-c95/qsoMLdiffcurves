{
 "cells": [
  {
   "cell_type": "code",
   "execution_count": null,
   "id": "1a3479a9",
   "metadata": {},
   "outputs": [],
   "source": [
    "# notebook to produce he2149 lightcurve plots:\n",
    "\n",
    "import numpy as np\n",
    "import matplotlib.pyplot as plt\n",
    "import os\n",
    "from pathlib import Path"
   ]
  },
  {
   "cell_type": "code",
   "execution_count": null,
   "id": "9d2ba0ea",
   "metadata": {},
   "outputs": [],
   "source": [
    "# load results:\n",
    "\n",
    "def diffdata(file):\n",
    "    time,magA,magA_err,magB,magB_err,sky,residue,chi2red = \\\n",
    "    np.loadtxt(file,skiprows=4,usecols=(1,7,8,9,10,11,13,14),unpack=True)\n",
    "    return time,magA,magA_err,magB,magB_err,sky,residue,chi2red\n",
    "def refdata(file):\n",
    "    time,magA,magA_err,magB,magB_err,sky,residue,chi2red = \\\n",
    "    np.loadtxt(file,skiprows=2,max_rows=1,usecols=(1,7,8,9,10,11,13,14),unpack=True)\n",
    "    return time,magA,magA_err,magB,magB_err,sky,residue,chi2red\n",
    "\n",
    "data_file_name = 'diffgalfitresults_betterpos.txt'\n",
    "R_all = diffdata('R/diff_galfit/'+data_file_name)\n",
    "R_ref = refdata('R/diff_galfit/'+data_file_name)\n",
    "V_all = diffdata('V/diff_galfit/'+data_file_name)\n",
    "V_ref = refdata('V/diff_galfit/'+data_file_name)"
   ]
  },
  {
   "cell_type": "code",
   "execution_count": null,
   "id": "0044be35",
   "metadata": {},
   "outputs": [],
   "source": [
    "# flux to magnitues:\n",
    "\n",
    "def mag(alldata,refdata,offset):\n",
    "    time     = alldata[0]\n",
    "    magA_err = 2.5/np.log(10)*np.sqrt(alldata[2]**2+refdata[2]**2)/(alldata[1]+refdata[1])\n",
    "    magB_err = 2.5/np.log(10)*np.sqrt(alldata[4]**2+refdata[4]**2)/(alldata[3]+refdata[3])\n",
    "    magA     = -2.5*np.log10(alldata[1]+refdata[1]) + offset\n",
    "    magB     = -2.5*np.log10(alldata[3]+refdata[3]) + offset\n",
    "    return time,magA,magA_err,magB,magB_err\n",
    "\n",
    "# Offset (determined from reference stars with known apperent GAIA magnitudes in the reference image):\n",
    "R_offset  = 27.024\n",
    "V_offset  = 29.209\n",
    "\n",
    "R_mag = mag(R_all,R_ref,R_offset)\n",
    "V_mag = mag(V_all,V_ref,V_offset)"
   ]
  },
  {
   "cell_type": "code",
   "execution_count": null,
   "id": "a021e5ca",
   "metadata": {},
   "outputs": [],
   "source": [
    "def plot(mag,offsetA=0.0,offsetB=0.0,lable1='',lable2='',sym1='o',sym2='o',timedelay=0.0):\n",
    "    plt.errorbar(mag[0],mag[1]+offsetA,yerr=mag[2],fmt=sym1,markersize=4,elinewidth=1,capsize=3,label=lable1)\n",
    "    plt.errorbar(mag[0]+timedelay,mag[3]+offsetB,yerr=mag[4],fmt=sym2,markersize=4,elinewidth=1,capsize=3,label=lable2)"
   ]
  },
  {
   "cell_type": "code",
   "execution_count": null,
   "id": "4bf87a9c",
   "metadata": {},
   "outputs": [],
   "source": [
    "plt.figure(figsize=(10,7),dpi=400)\n",
    "plt.title('light curves of Q2237+0305 in $R$ and $V$ band',size=17)\n",
    "plot(R_mag,0.0,-0.5,'$R$ band: $A$','$R$ band: $B-0.5$',timedelay=-103.0/365.25)\n",
    "plot(V_mag,0.0,-0.5,'$V$ band: $A$','$V$ band: $B-0.5$',timedelay=-103.0/365.25)\n",
    "plt.gca().invert_yaxis()\n",
    "plt.xlabel('detection time in years (time delays not included)',size=12)\n",
    "plt.ylabel('apparent magnitudes',size=12)\n",
    "plt.legend(fontsize=8,loc='lower left',ncol=4)"
   ]
  },
  {
   "cell_type": "code",
   "execution_count": null,
   "id": "745f53a3",
   "metadata": {},
   "outputs": [],
   "source": [
    "plt.figure(figsize=(10,7),dpi=400)\n",
    "plt.title('light curves of HE2149-2745 in the $R$ and $V$ band',size=18)\n",
    "plot(R_mag,0.0,-1.16,'$R$ band: $A$','$R$ band: $B-1.16$','o','^',-103.0/365.25)\n",
    "plot(V_mag,0.2,-0.89,'$V$ band: $A+0.2$','$V$ band: $B-0.89$','s','v',-103.0/365.25)\n",
    "plt.ylim([16.51,17.69])\n",
    "plt.gca().invert_yaxis()\n",
    "plt.xticks(fontsize=13)\n",
    "plt.yticks(fontsize=13)\n",
    "plt.xlabel('time $t_A$ and $t_B+\\Delta t_{AB}$ [years]',size=15)\n",
    "plt.ylabel('apparent magnitudes [mag]',size=15)\n",
    "plt.legend(fontsize=13,loc='upper left',ncol=2)"
   ]
  },
  {
   "cell_type": "code",
   "execution_count": null,
   "id": "e8abe33f",
   "metadata": {},
   "outputs": [],
   "source": [
    "plt.figure(figsize=(10,7),dpi=400)\n",
    "plt.title('light curves of HE2149-2745 in the $R$ and $V$ band',size=18)\n",
    "plot(R_mag,0.0,-1.2,'$R$ band: $A$','$R$ band: $B-1.2$','o','^',-32.4/365.25)\n",
    "plot(V_mag,0.2,-1.0,'$V$ band: $A+0.2$','$V$ band: $B-1.0$','s','v',-32.4/365.25)\n",
    "plt.ylim([16.51,17.69])\n",
    "plt.gca().invert_yaxis()\n",
    "plt.xticks(fontsize=13)\n",
    "plt.yticks(fontsize=13)\n",
    "plt.xlabel('time $t_A$ and $t_B+\\Delta t_{AB}$ [years]',size=15)\n",
    "plt.ylabel('apparent magnitudes [mag]',size=15)\n",
    "plt.legend(fontsize=13,loc='upper left',ncol=2)"
   ]
  },
  {
   "cell_type": "code",
   "execution_count": null,
   "id": "68848512",
   "metadata": {},
   "outputs": [],
   "source": [
    "plt.figure(figsize=(10,7),dpi=400)\n",
    "plt.title('light curves of HE2149-2745 in the $R$ and $V$ band',size=18)\n",
    "plot(R_mag,0.0,-1.2,'$R$ band: $A$','$R$ band: $B-1.2$','o','^',-32.4/365.25)\n",
    "plot(V_mag,0.2,-1.0,'$V$ band: $A+0.2$','$V$ band: $B-1.0$','s','v',-32.4/365.25)\n",
    "plt.gca().invert_yaxis()\n",
    "plt.xticks(fontsize=13)\n",
    "plt.yticks(fontsize=13)\n",
    "plt.xlabel('time $t_A$ and $t_B+\\Delta t_{AB}$ [years]',size=15)\n",
    "plt.ylabel('apparent magnitudes [mag]',size=15)\n",
    "plt.legend(fontsize=13,loc='upper left',ncol=2)"
   ]
  },
  {
   "cell_type": "code",
   "execution_count": null,
   "id": "829ac395",
   "metadata": {},
   "outputs": [],
   "source": [
    "def mask(alldata,refdata):\n",
    "    sky     = alldata[5]\n",
    "    residue = alldata[6]\n",
    "    chi2red = alldata[7]\n",
    "    \n",
    "    fluxA   = alldata[1]+refdata[1]\n",
    "    fluxAer = alldata[2]\n",
    "    fluxB   = alldata[3]+refdata[3]\n",
    "    fluxBer = alldata[4]\n",
    "    #print(np.abs(fluxA/fluxAer),np.abs(fluxB/fluxBer))\n",
    "    \n",
    "    max_chi = 5.0\n",
    "    max_sky = 10.0\n",
    "    max_res = 15.0 #20.0\n",
    "    \n",
    "    #mask = np.abs(np.where(chi2red>max_chi,0,1)*np.where(sky>max_sky,0,1)*np.where(residue>max_res,0,1)-1)\n",
    "    \n",
    "    mask = np.abs(np.where(np.abs(fluxAer/fluxA)>0.02,0,1)-1)\n",
    "    keep=mask==1\n",
    "    index=np.arange(len(keep))    \n",
    "    print (index[keep],(fluxAer/fluxA)[keep])\n",
    "    \n",
    "    #print(index[keep])\n",
    "    #print ((sky/sky_err)[keep])\n",
    "    \n",
    "    only_chi2red_mask = False\n",
    "    if only_chi2red_mask:\n",
    "        max_chi = 5.0\n",
    "        min_chi = 0.2\n",
    "        mask = np.abs(np.where(chi2red>max_chi,0,1)*np.where(chi2red<min_chi,0,1)-1)\n",
    "        \n",
    "    chi2red_sky_mask = False\n",
    "    if chi2red_sky_mask:\n",
    "        max_chi = 4.0\n",
    "        min_chi = 0.5\n",
    "        max_sky = 5.0\n",
    "        mask = np.abs(np.where(chi2red>max_chi,0,1)*np.where(chi2red<min_chi,0,1)*np.where(sky>max_sky,0,1)-1)\n",
    "    \n",
    "    justchi = False\n",
    "    if justchi:\n",
    "        max_chi = 5.0\n",
    "        mask = np.abs(np.where(chi2red>max_chi,0,1)-1)  \n",
    "    \n",
    "    return mask\n",
    "\n",
    "R_mask = mask(R_all,R_ref)\n",
    "V_mask = mask(V_all,V_ref)\n",
    "print(R_mask.sum(),V_mask.sum())"
   ]
  },
  {
   "cell_type": "code",
   "execution_count": null,
   "id": "b2791737",
   "metadata": {},
   "outputs": [],
   "source": [
    "def masked_mag(mag,mask):\n",
    "    time = np.ma.compressed(np.ma.array(mag[0],mask=mask))\n",
    "    magA = np.ma.compressed(np.ma.array(mag[1],mask=mask))\n",
    "    magA_err = np.ma.compressed(np.ma.array(mag[2],mask=mask))\n",
    "    magB = np.ma.compressed(np.ma.array(mag[3],mask=mask))\n",
    "    magB_err = np.ma.compressed(np.ma.array(mag[4],mask=mask))\n",
    "    return time,magA,magA_err,magB,magB_err\n",
    "\n",
    "R_mag_masked = masked_mag(R_mag,R_mask)\n",
    "V_mag_masked = masked_mag(V_mag,V_mask)"
   ]
  },
  {
   "cell_type": "code",
   "execution_count": null,
   "id": "ea94b092",
   "metadata": {},
   "outputs": [],
   "source": [
    "plt.figure(figsize=(10,7),dpi=400)\n",
    "plt.title('light curves of HE2149-2745 in the $R$ and $V$ band',size=18)\n",
    "plot(R_mag_masked,0.0,-1.2,'$R$ band: $A$','$R$ band: $B-1.2$','o','^',-32.4/365.25)\n",
    "plot(V_mag_masked,0.2,-1.0,'$V$ band: $A+0.2$','$V$ band: $B-1.0$','s','v',-32.4/365.25)\n",
    "#plt.ylim([16.51,17.69])\n",
    "plt.gca().invert_yaxis()\n",
    "plt.xticks(fontsize=13)\n",
    "plt.yticks(fontsize=13)\n",
    "plt.xlabel('time $t_A$ and $t_B+\\Delta t_{AB}$ [years]',size=15)\n",
    "plt.ylabel('apparent magnitudes [mag]',size=15)\n",
    "plt.legend(fontsize=13,ncol=2)"
   ]
  },
  {
   "cell_type": "code",
   "execution_count": null,
   "id": "87b1560e",
   "metadata": {},
   "outputs": [],
   "source": [
    "def newmask(alldata,refdata):\n",
    "    fluxA   = alldata[1]+refdata[1]\n",
    "    fluxAer = np.sqrt(alldata[2]*alldata[2]+refdata[2]*refdata[2])\n",
    "    fluxB   = alldata[3]+refdata[3]\n",
    "    fluxBer = np.sqrt(alldata[4]*alldata[4]+refdata[4]*refdata[4])\n",
    "    sky     = alldata[5]\n",
    "    residue = alldata[6]\n",
    "    chi2red = alldata[7]\n",
    "\n",
    "    max_rel_flux_err = 0.07\n",
    "    mrfe = max_rel_flux_err\n",
    "    \n",
    "    mask = np.abs(np.where(np.abs(fluxAer/fluxA)>mrfe,0,1)*np.where(np.abs(fluxBer/fluxB)>mrfe,0,1)-1)\n",
    "    keep=mask==1\n",
    "    index=np.arange(len(keep))    \n",
    "    print('file index',index[keep])\n",
    "    print('flux A/err',(fluxAer/fluxA)[keep])\n",
    "    print('flux B/err',(fluxBer/fluxB)[keep])\n",
    "    print('background',sky[keep])\n",
    "    print('residue   ',residue[keep])\n",
    "    print('chr2red   ',chi2red[keep])\n",
    "    \n",
    "    return mask\n",
    "\n",
    "R_newmask = newmask(R_all,R_ref)\n",
    "print('')\n",
    "V_newmask = newmask(V_all,V_ref)\n",
    "print('')\n",
    "print('masked in R:',R_newmask.sum())\n",
    "print('masked in V:',V_newmask.sum())\n",
    "\n",
    "R_mag_newmasked = masked_mag(R_mag,R_newmask)\n",
    "V_mag_newmasked = masked_mag(V_mag,V_newmask)"
   ]
  },
  {
   "cell_type": "code",
   "execution_count": null,
   "id": "b94343c8",
   "metadata": {},
   "outputs": [],
   "source": [
    "plt.figure(figsize=(10,7),dpi=400)\n",
    "plt.title('light curves of HE2149-2745 in the $R$ and $V$ band',size=18)\n",
    "plot(R_mag,0.0,-1.2,'$R$: $A$ not masked','$R$: $B-1.2$ not masked','o','^',-32.4/365.25)\n",
    "plot(V_mag,0.2,-1.0,'$V$: $A+0.2$ not masked','$V$: $B-1.0$ not masked','s','v',-32.4/365.25)\n",
    "plot(R_mag_newmasked,0.0,-1.2,'$R$ band: $A$','$R$ band: $B-1.2$','o','^',-32.4/365.25)\n",
    "plot(V_mag_newmasked,0.2,-1.0,'$V$ band: $A+0.2$','$V$ band: $B-1.0$','s','v',-32.4/365.25)\n",
    "plt.gca().invert_yaxis()\n",
    "plt.xticks(fontsize=13)\n",
    "plt.yticks(fontsize=13)\n",
    "plt.xlabel('time $t_A$ and $t_B+\\Delta t_{AB}$ [years]',size=15)\n",
    "plt.ylabel('apparent magnitudes [mag]',size=15)\n",
    "plt.legend(fontsize=13,ncol=2)"
   ]
  },
  {
   "cell_type": "code",
   "execution_count": null,
   "id": "4cf1dd75",
   "metadata": {},
   "outputs": [],
   "source": [
    "plt.figure(figsize=(10,7),dpi=400)\n",
    "plt.title('light curves of HE2149-2745 in the $R$ and $V$ band',size=18)\n",
    "plot(R_mag_newmasked,0.0,-1.2,'$R$ band: $A$','$R$ band: $B-1.2$','o','^',-32.4/365.25)\n",
    "plot(V_mag_newmasked,0.2,-1.0,'$V$ band: $A+0.2$','$V$ band: $B-1.0$','s','v',-32.4/365.25)\n",
    "plt.gca().invert_yaxis()\n",
    "plt.xticks(fontsize=13)\n",
    "plt.yticks(fontsize=13)\n",
    "plt.xlabel('time $t_A$ and $t_B+\\Delta t_{AB}$ [years]',size=15)\n",
    "plt.ylabel('apparent magnitudes [mag]',size=15)\n",
    "plt.legend(fontsize=13,ncol=2)"
   ]
  },
  {
   "cell_type": "code",
   "execution_count": null,
   "id": "6fb5f946",
   "metadata": {},
   "outputs": [],
   "source": [
    "max_mag_err = np.max([np.max(R_mag[2]),np.max(R_mag[4]),np.max(V_mag[2]),np.max(V_mag[4])])\n",
    "print(max_mag_err)\n",
    "bins = np.linspace(0.0,max_mag_err,num=100,endpoint=True)\n",
    "plt.hist(R_mag[2],bins,histtype='step',label='$\\Delta m_{R,A}$')\n",
    "plt.hist(R_mag[4],bins,histtype='step',label='$\\Delta m_{R,B}$')\n",
    "plt.hist(V_mag[2],bins,histtype='step',label='$\\Delta m_{V,A}$')\n",
    "plt.hist(V_mag[4],bins,histtype='step',label='$\\Delta m_{V,B}$')\n",
    "plt.xscale('log')\n",
    "plt.yscale('log')\n",
    "plt.legend()"
   ]
  },
  {
   "cell_type": "code",
   "execution_count": null,
   "id": "9d04e2ea",
   "metadata": {},
   "outputs": [],
   "source": [
    "def finalmask(lightcurve):\n",
    "    mag_A_err = lightcurve[2]\n",
    "    mag_B_err = lightcurve[4]\n",
    "    \n",
    "    max_mag_err = 0.05\n",
    "    \n",
    "    mask = np.abs(np.where(np.abs(mag_A_err)>max_mag_err,0,1)*np.where(np.abs(mag_B_err)>max_mag_err,0,1)-1)\n",
    "    \n",
    "    return mask\n",
    "\n",
    "R_finalmask = finalmask(R_mag)\n",
    "V_finalmask = finalmask(V_mag)\n",
    "print('masked in R:',R_finalmask.sum())\n",
    "print('masked in V:',V_finalmask.sum())\n",
    "\n",
    "R_mag_finalmasked = masked_mag(R_mag,R_finalmask)\n",
    "V_mag_finalmasked = masked_mag(V_mag,V_finalmask)"
   ]
  },
  {
   "cell_type": "code",
   "execution_count": null,
   "id": "1b01e1fe",
   "metadata": {},
   "outputs": [],
   "source": [
    "plt.figure(figsize=(10,7),dpi=400)\n",
    "plt.title('light curves of HE2149-2745 in the $R$ and $V$ band',size=18)\n",
    "plot(R_mag_finalmasked,0.0,-1.2,'$R$ band: $A$','$R$ band: $B-1.2$','o','^',-32.4/365.25)\n",
    "plot(V_mag_finalmasked,0.2,-1.0,'$V$ band: $A+0.2$','$V$ band: $B-1.0$','s','v',-32.4/365.25)\n",
    "plt.gca().invert_yaxis()\n",
    "plt.xticks(fontsize=13)\n",
    "plt.yticks(fontsize=13)\n",
    "plt.xlabel('time $t_A$ and $t_B+\\Delta t_{AB}$ [years]',size=15)\n",
    "plt.ylabel('apparent magnitudes [mag]',size=15)\n",
    "plt.legend(fontsize=13,ncol=2)"
   ]
  },
  {
   "cell_type": "code",
   "execution_count": null,
   "id": "d51fb20d",
   "metadata": {},
   "outputs": [],
   "source": [
    "def magtxt(quasar,mag):\n",
    "    txt = open(\"lightcurves_\"+str(quasar)+\".txt\", \"w\")\n",
    "    txt.write(\"time\"+\"\\t\"+\"A-mag\"+\"\\t\"+\"A-err\"+\"\\t\"+\"B-mag\"+\"\\t\"+\"B-err\"+\"\\n\")\n",
    "    txt.write(\"\\n\")\n",
    "    for i in range(len(mag[0])):\n",
    "        txt.write(str(mag[0][i])+\"\\t\"+str(mag[1][i])+\"\\t\"+str(mag[2][i])+\"\\t\"+str(mag[3][i])+\"\\t\"+str(mag[4][i])+\"\\n\")\n",
    "    txt.close()"
   ]
  },
  {
   "cell_type": "code",
   "execution_count": null,
   "id": "ecc1b3d7",
   "metadata": {},
   "outputs": [],
   "source": [
    "magtxt('he2149R',R_mag_finalmasked)\n",
    "magtxt('he2149V',V_mag_finalmasked)"
   ]
  },
  {
   "cell_type": "code",
   "execution_count": null,
   "id": "77c2cc8a",
   "metadata": {},
   "outputs": [],
   "source": [
    "print(np.sort(R_mag_finalmasked[0]))"
   ]
  },
  {
   "cell_type": "code",
   "execution_count": null,
   "id": "c2321e23",
   "metadata": {},
   "outputs": [],
   "source": [
    "import glob\n",
    "from astropy.io import fits\n",
    "from astropy.time import Time\n",
    "\n",
    "def bettertime(band,file,mask,mag):\n",
    "    \n",
    "    table = open(band+'/diff_galfit/'+file,'r')\n",
    "    lines = table.readlines()[4:]\n",
    "    notmaskeddates = np.ma.compressed(np.ma.array(np.arange(len(lines)),mask=mask))\n",
    "    times = np.zeros(len(notmaskeddates))\n",
    "    k = 0\n",
    "    for i in notmaskeddates:\n",
    "        fitsname = (lines[i].split('.fits')[0].replace('diff_',''))\n",
    "        fitsfiles = list(glob.glob(band+'/raw/'+fitsname+'*.fits'))\n",
    "        fitstimes = np.zeros(len(fitsfiles))\n",
    "        for j in range(len(fitsfiles)):\n",
    "            data = fits.open(fitsfiles[j])\n",
    "            fitstimes[j] = data[0].header['MJD-OBS']\n",
    "        meanMJD = np.mean(fitstimes)\n",
    "        times[k] = Time(meanMJD,format='mjd').decimalyear\n",
    "        k = k + 1\n",
    "    if len(mag[0]) != len(times):\n",
    "        print('WARNING!!!')\n",
    "    difftest = np.array([np.mean(times - mag[0]),np.max(np.abs(times - mag[0]))])\n",
    "    print('mean and maximal local date calc. time to mjd calc. time in days:',difftest*365.25)\n",
    "        \n",
    "    return times\n",
    "\n",
    "betterRtime = bettertime('R',data_file_name,R_finalmask,R_mag_finalmasked)\n",
    "betterVtime = bettertime('V',data_file_name,V_finalmask,V_mag_finalmasked)\n",
    "#print(betterRtime,betterVtime)"
   ]
  },
  {
   "cell_type": "code",
   "execution_count": null,
   "id": "0521129f",
   "metadata": {},
   "outputs": [],
   "source": [
    "def overwritetime(mag,bettertime):\n",
    "    return bettertime,mag[1],mag[2],mag[3],mag[4]\n",
    "    \n",
    "R_mag_finalmaskedandtime = overwritetime(R_mag_finalmasked,betterRtime)\n",
    "V_mag_finalmaskedandtime = overwritetime(V_mag_finalmasked,betterVtime)\n",
    "\n",
    "for i in range(5):\n",
    "    print(i)\n",
    "    print(R_mag_finalmasked[i][0:5]-R_mag_finalmaskedandtime[i][0:5])\n",
    "    print(V_mag_finalmasked[i][0:5]-V_mag_finalmaskedandtime[i][0:5])"
   ]
  },
  {
   "cell_type": "code",
   "execution_count": null,
   "id": "dd700fc0",
   "metadata": {},
   "outputs": [],
   "source": [
    "magtxt('he2149R',R_mag_finalmaskedandtime)\n",
    "magtxt('he2149V',V_mag_finalmaskedandtime)"
   ]
  },
  {
   "cell_type": "code",
   "execution_count": null,
   "id": "f1caeed0",
   "metadata": {},
   "outputs": [],
   "source": []
  }
 ],
 "metadata": {
  "kernelspec": {
   "display_name": "Python 3",
   "language": "python",
   "name": "python3"
  },
  "language_info": {
   "codemirror_mode": {
    "name": "ipython",
    "version": 3
   },
   "file_extension": ".py",
   "mimetype": "text/x-python",
   "name": "python",
   "nbconvert_exporter": "python",
   "pygments_lexer": "ipython3",
   "version": "3.8.8"
  }
 },
 "nbformat": 4,
 "nbformat_minor": 5
}
